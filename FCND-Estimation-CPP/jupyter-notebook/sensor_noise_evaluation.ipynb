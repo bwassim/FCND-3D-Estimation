{
 "cells": [
  {
   "cell_type": "markdown",
   "metadata": {},
   "source": [
    "### This code estimates the standard deviation based on the simulated sensor noise"
   ]
  },
  {
   "cell_type": "code",
   "execution_count": 1,
   "metadata": {},
   "outputs": [],
   "source": [
    "# Note that the sampling time is not the same "
   ]
  },
  {
   "cell_type": "code",
   "execution_count": 2,
   "metadata": {},
   "outputs": [],
   "source": [
    "import numpy as np"
   ]
  },
  {
   "cell_type": "code",
   "execution_count": 26,
   "metadata": {},
   "outputs": [],
   "source": [
    "filename = \"Quad_GPS_X.txt\"\n",
    "quad_gpsX = np.loadtxt(filename, skiprows=1, delimiter=',', dtype='Float64')[:,1]"
   ]
  },
  {
   "cell_type": "code",
   "execution_count": 27,
   "metadata": {},
   "outputs": [
    {
     "data": {
      "text/plain": [
       "array([ 0.929729, -0.850943, -0.294885,  0.645242, -0.905385, -0.284876,\n",
       "        0.274991,  0.895015, -0.066778, -0.078368,  0.693934, -0.048385,\n",
       "        0.607244, -0.699733,  0.151046,  0.017967,  0.292599, -0.729715,\n",
       "       -0.011443,  0.54444 , -0.793771, -0.124358,  1.235412, -0.55408 ,\n",
       "       -0.173456,  0.654433, -0.093908,  0.320721, -0.336543,  0.796288,\n",
       "       -0.426387, -0.207292, -1.281201,  0.301633, -1.102355, -0.814949,\n",
       "       -0.315412,  0.773343, -0.124399, -0.277007, -0.704521, -0.603724,\n",
       "        0.683921,  0.324544,  0.753677, -0.654424, -0.444931,  1.084955,\n",
       "        0.235442,  0.30063 ,  0.433952, -0.478209, -1.190884,  1.511651,\n",
       "       -0.935843,  0.524282, -0.829712,  0.894794,  0.965056,  0.311843,\n",
       "       -0.537512,  0.567098,  0.37655 ,  1.460191, -1.057274,  1.148468,\n",
       "       -0.201947, -0.872269,  1.044405,  0.244408,  0.191837,  0.202311,\n",
       "       -0.435683, -0.622663, -0.066373,  0.665693, -0.438002,  0.32105 ,\n",
       "        0.140789,  1.233487, -0.167718, -2.065375, -0.608317, -1.550658,\n",
       "        0.768153,  0.344082, -0.403144, -0.686413, -0.47787 , -0.699475,\n",
       "        1.402898, -0.957778])"
      ]
     },
     "execution_count": 27,
     "metadata": {},
     "output_type": "execute_result"
    }
   ],
   "source": [
    "quad_gpsX"
   ]
  },
  {
   "cell_type": "code",
   "execution_count": 28,
   "metadata": {},
   "outputs": [
    {
     "data": {
      "text/plain": [
       "0.7263455847056927"
      ]
     },
     "execution_count": 28,
     "metadata": {},
     "output_type": "execute_result"
    }
   ],
   "source": [
    "std_GPSX = np.std(quad_gpsX)\n",
    "std_GPSX"
   ]
  },
  {
   "cell_type": "code",
   "execution_count": 31,
   "metadata": {},
   "outputs": [
    {
     "data": {
      "text/plain": [
       "array([ 0.143543, -0.840799,  0.02017 , ..., -0.090639, -0.070387,\n",
       "       -0.141922])"
      ]
     },
     "execution_count": 31,
     "metadata": {},
     "output_type": "execute_result"
    }
   ],
   "source": [
    "filename = \"Quad_IMU_AX.txt\"\n",
    "quad_imu_Ax = np.loadtxt(filename, delimiter=',', dtype=\"Float64\",skiprows=1)[:,1]\n",
    "quad_imu_Ax"
   ]
  },
  {
   "cell_type": "code",
   "execution_count": 33,
   "metadata": {},
   "outputs": [
    {
     "data": {
      "text/plain": [
       "0.5092554550588527"
      ]
     },
     "execution_count": 33,
     "metadata": {},
     "output_type": "execute_result"
    }
   ],
   "source": [
    "std_IMU_AX = np.std(quad_imu_Ax)\n",
    "std_IMU_AX"
   ]
  },
  {
   "cell_type": "code",
   "execution_count": null,
   "metadata": {},
   "outputs": [],
   "source": []
  }
 ],
 "metadata": {
  "kernelspec": {
   "display_name": "Python [conda env:fcnd] *",
   "language": "python",
   "name": "conda-env-fcnd-py"
  },
  "language_info": {
   "codemirror_mode": {
    "name": "ipython",
    "version": 3
   },
   "file_extension": ".py",
   "mimetype": "text/x-python",
   "name": "python",
   "nbconvert_exporter": "python",
   "pygments_lexer": "ipython3",
   "version": "3.6.3"
  }
 },
 "nbformat": 4,
 "nbformat_minor": 4
}
